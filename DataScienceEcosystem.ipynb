{
 "cells": [
  {
   "cell_type": "markdown",
   "id": "d09f4925-399c-4d1e-9baa-9e0aea50ae64",
   "metadata": {},
   "source": [
    "# Data Science Tools and Ecosystem"
   ]
  },
  {
   "cell_type": "markdown",
   "id": "24c1b30c-3125-4c37-bdfe-e2d7b6acdf42",
   "metadata": {},
   "source": [
    "In this notebook, Data Science Tools and Ecosystem are summarized."
   ]
  },
  {
   "cell_type": "markdown",
   "id": "f493081b-0036-4843-ac9a-fb59ae74640d",
   "metadata": {},
   "source": [
    "**Objectives:**\n",
    "- List popular languages for Data Scientists\n",
    "- List commonly used libraries for Data Scientists\n",
    "- List Data Science tools\n",
    "- List arithmetic expression examples"
   ]
  },
  {
   "cell_type": "markdown",
   "id": "107f7cb1-f018-4fac-a55f-46bbb7bec0d1",
   "metadata": {},
   "source": [
    "Some of the popular languages that Data Scientists use are:"
   ]
  },
  {
   "cell_type": "markdown",
   "id": "b7e54edf-4bb1-4d80-b323-981af9183534",
   "metadata": {},
   "source": [
    "1. Python\n",
    "2. R\n",
    "3. SQL"
   ]
  },
  {
   "cell_type": "markdown",
   "id": "5668fb1b-961c-418f-b391-c6fcb9566588",
   "metadata": {},
   "source": [
    "Some of the commonly used libraries used by Data Scientists include:"
   ]
  },
  {
   "cell_type": "markdown",
   "id": "1a1e4baa-6712-4b7f-bce9-0f38da83edd0",
   "metadata": {},
   "source": [
    "1. Pandas\n",
    "2. Numpy\n",
    "3. Matplotlib"
   ]
  },
  {
   "cell_type": "markdown",
   "id": "ddd1da95-f7e8-40ed-b8a6-75741dd8f0b9",
   "metadata": {},
   "source": [
    "|Data Science Tools|\n",
    "|----|\n",
    "|RStudio (for R)|\n",
    "|Jupyter Notebooks (for Python)|\n",
    "|PyCharm (for Python)|"
   ]
  },
  {
   "cell_type": "markdown",
   "id": "a2b7f65f-ae04-497c-81f2-4a2ce323a26c",
   "metadata": {},
   "source": [
    "### Below are a few examples of evaluating arithmetic expressions in Python"
   ]
  },
  {
   "cell_type": "code",
   "execution_count": 2,
   "id": "6bd43cda-7bf9-4feb-9f6e-f4ef7a7a790b",
   "metadata": {},
   "outputs": [
    {
     "data": {
      "text/plain": [
       "17"
      ]
     },
     "execution_count": 2,
     "metadata": {},
     "output_type": "execute_result"
    }
   ],
   "source": [
    "# This a simple arithmetic expression to mutiply then add integers\n",
    "(3*4)+5"
   ]
  },
  {
   "cell_type": "code",
   "execution_count": 3,
   "id": "a4b46db4-2c89-40c6-a514-adb894175774",
   "metadata": {},
   "outputs": [
    {
     "data": {
      "text/plain": [
       "3.3333333333333335"
      ]
     },
     "execution_count": 3,
     "metadata": {},
     "output_type": "execute_result"
    }
   ],
   "source": [
    "#  This will convert 200 minutes to hours by diving by 60\n",
    "200/60"
   ]
  },
  {
   "cell_type": "markdown",
   "id": "623ed117-bfc3-46c0-af32-42b8f51b7445",
   "metadata": {},
   "source": [
    "## Author\n",
    "Hillson Lam"
   ]
  },
  {
   "cell_type": "code",
   "execution_count": null,
   "id": "5dbafe08-2ece-4151-899a-adf2b39ac37f",
   "metadata": {},
   "outputs": [],
   "source": []
  }
 ],
 "metadata": {
  "kernelspec": {
   "display_name": "Python 3 (ipykernel)",
   "language": "python",
   "name": "python3"
  },
  "language_info": {
   "codemirror_mode": {
    "name": "ipython",
    "version": 3
   },
   "file_extension": ".py",
   "mimetype": "text/x-python",
   "name": "python",
   "nbconvert_exporter": "python",
   "pygments_lexer": "ipython3",
   "version": "3.12.9"
  }
 },
 "nbformat": 4,
 "nbformat_minor": 5
}
